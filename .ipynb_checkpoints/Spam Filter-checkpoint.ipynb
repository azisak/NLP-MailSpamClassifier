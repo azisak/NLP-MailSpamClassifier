{
 "cells": [
  {
   "cell_type": "code",
   "execution_count": 9,
   "metadata": {},
   "outputs": [],
   "source": [
    "# Importing libraries for vectorization\n",
    "from sklearn.feature_extraction.text import CountVectorizer\n",
    "import operator\n",
    "\n",
    "# Importing libraries for Naive Bayes Train\n",
    "import pickle\n",
    "import pandas as pd\n",
    "import numpy as np\n",
    "from sklearn.naive_bayes import GaussianNB, MultinomialNB\n",
    "from sklearn.model_selection import train_test_split"
   ]
  },
  {
   "cell_type": "code",
   "execution_count": 2,
   "metadata": {},
   "outputs": [],
   "source": [
    "# Inputting training datasets\n",
    "import email.parser \n",
    "import os, sys, stat\n",
    "import shutil\n",
    "import re\n",
    "from pathlib import Path\n",
    "\n",
    "\n",
    "input_path = \"./TR-mails/result\"\n",
    "\n",
    "def getSingleDatasetFromDir ( filename ):\n",
    "    if not os.path.exists(filename): # dest path doesnot exist\n",
    "        print (\"ERROR: input file does not exist:\"), filename\n",
    "        os.exit(1)\n",
    "    fp = open(filename, errors=\"ignore\")\n",
    "    msg = email.message_from_file(fp)\n",
    "    payload = msg.get_payload()\n",
    "    \n",
    "    return payload\n",
    "\n",
    "def getDatasetsFromDir ( srcdir ):\n",
    "    datasets = []\n",
    "    files = os.listdir(srcdir)\n",
    "    for file in files:\n",
    "        srcpath = os.path.join(srcdir, file)\n",
    "        src_info = os.stat(srcpath)\n",
    "        body = getSingleDatasetFromDir (srcpath)\n",
    "        datasets.append(body)\n",
    "    return datasets\n",
    "\n",
    "datasets = getDatasetsFromDir(input_path)\n",
    "\n",
    "# Inputtting label training datasets\n",
    "label_path = \"./train-label.csv\"\n",
    "\n",
    "label_data = pd.read_csv(label_path)\n",
    "label_data['Prediction']\n",
    "label_data = np.asarray(label_data['Prediction'])"
   ]
  },
  {
   "cell_type": "code",
   "execution_count": 3,
   "metadata": {},
   "outputs": [],
   "source": [
    "countVectorizer = CountVectorizer()"
   ]
  },
  {
   "cell_type": "code",
   "execution_count": 13,
   "metadata": {},
   "outputs": [
    {
     "name": "stdout",
     "output_type": "stream",
     "text": [
      "Akurasi:0.68\n"
     ]
    }
   ],
   "source": [
    "#Naive Bayes Train\n",
    "x_train = countVectorizer.fit_transform(datasets).toarray()\n",
    "y_train = np.array(label_data)\n",
    "x_train, x_test, y_train, y_test = train_test_split(x_train, y_train, test_size = 0.01)\n",
    "\n",
    "gnb = MultinomialNB()\n",
    "gnb.fit(x_train,y_train)\n",
    "\n",
    "print(\"Akurasi:\" + str(gnb.score(x_test, y_test)))"
   ]
  },
  {
   "cell_type": "code",
   "execution_count": null,
   "metadata": {},
   "outputs": [],
   "source": []
  },
  {
   "cell_type": "code",
   "execution_count": null,
   "metadata": {},
   "outputs": [],
   "source": []
  }
 ],
 "metadata": {
  "kernelspec": {
   "display_name": "Python 3",
   "language": "python",
   "name": "python3"
  },
  "language_info": {
   "codemirror_mode": {
    "name": "ipython",
    "version": 3
   },
   "file_extension": ".py",
   "mimetype": "text/x-python",
   "name": "python",
   "nbconvert_exporter": "python",
   "pygments_lexer": "ipython3",
   "version": "3.6.5"
  }
 },
 "nbformat": 4,
 "nbformat_minor": 2
}
