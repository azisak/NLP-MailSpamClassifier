{
 "cells": [
  {
   "cell_type": "code",
   "execution_count": 29,
   "metadata": {},
   "outputs": [],
   "source": [
    "# Importing libraries for vectorization\n",
    "from sklearn.feature_extraction.text import CountVectorizer\n",
    "import operator"
   ]
  },
  {
   "cell_type": "code",
   "execution_count": 37,
   "metadata": {},
   "outputs": [],
   "source": [
    "# Example datasets\n",
    "datasets = [\n",
    "    \"sample of datasets is Going here. it iS a good idea to keep up\",\n",
    "    \"Another sample of spaM\",\n",
    "    \"Sale sample 50% of bag\",\n",
    "    \"Nighstale offer until 25 september\"\n",
    "]"
   ]
  },
  {
   "cell_type": "code",
   "execution_count": 38,
   "metadata": {},
   "outputs": [
    {
     "name": "stdout",
     "output_type": "stream",
     "text": [
      "25 50 another bag datasets going good here idea is it keep nighstale of offer sale sample september spam to until up [[0 0 0 0 1 1 1 1 1 2 1 1 0 1 0 0 1 0 0 1 0 1]\n",
      " [0 0 1 0 0 0 0 0 0 0 0 0 0 1 0 0 1 0 1 0 0 0]\n",
      " [0 1 0 1 0 0 0 0 0 0 0 0 0 1 0 1 1 0 0 0 0 0]\n",
      " [1 0 0 0 0 0 0 0 0 0 0 0 1 0 1 0 0 1 0 0 1 0]]\n"
     ]
    }
   ],
   "source": [
    "# Get the vector of word unique Word\n",
    "countVectorizer = CountVectorizer()\n",
    "res = countVectorizer.fit_transform(datasets)  \n",
    "maps= countVectorizer.vocabulary_\n",
    "sorted_maps = sorted(maps.items(), key=operator.itemgetter(1))\n",
    "for map in sorted_maps:\n",
    "    print(map[0],end=\" \")\n",
    "print(res.toarray())"
   ]
  },
  {
   "cell_type": "code",
   "execution_count": 43,
   "metadata": {},
   "outputs": [
    {
     "name": "stdout",
     "output_type": "stream",
     "text": [
      "[[0.         0.         0.         0.         0.26904652 0.26904652\n",
      "  0.26904652 0.26904652 0.26904652 0.53809303 0.26904652 0.26904652\n",
      "  0.         0.17172891 0.         0.         0.17172891 0.\n",
      "  0.         0.26904652 0.         0.26904652]\n",
      " [0.         0.         0.59603894 0.         0.         0.\n",
      "  0.         0.         0.         0.         0.         0.\n",
      "  0.         0.38044393 0.         0.         0.38044393 0.\n",
      "  0.59603894 0.         0.         0.        ]\n",
      " [0.         0.51199172 0.         0.51199172 0.         0.\n",
      "  0.         0.         0.         0.         0.         0.\n",
      "  0.         0.32679768 0.         0.51199172 0.32679768 0.\n",
      "  0.         0.         0.         0.        ]\n",
      " [0.4472136  0.         0.         0.         0.         0.\n",
      "  0.         0.         0.         0.         0.         0.\n",
      "  0.4472136  0.         0.4472136  0.         0.         0.4472136\n",
      "  0.         0.         0.4472136  0.        ]]\n",
      "{'sample': 16, 'of': 13, 'datasets': 4, 'is': 9, 'going': 5, 'here': 7, 'it': 10, 'good': 6, 'idea': 8, 'to': 19, 'keep': 11, 'up': 21, 'another': 2, 'spam': 18, 'sale': 15, '50': 1, 'bag': 3, 'nighstale': 12, 'offer': 14, 'until': 20, '25': 0, 'september': 17}\n",
      "[1.91629073 1.91629073 1.91629073 1.91629073 1.91629073 1.91629073\n",
      " 1.91629073 1.91629073 1.91629073 1.91629073 1.91629073 1.91629073\n",
      " 1.91629073 1.22314355 1.91629073 1.91629073 1.22314355 1.91629073\n",
      " 1.91629073 1.91629073 1.91629073 1.91629073]\n",
      "(1, 22)\n",
      "[[0.         0.         0.         0.         0.26904652 0.26904652\n",
      "  0.26904652 0.26904652 0.26904652 0.53809303 0.26904652 0.26904652\n",
      "  0.         0.17172891 0.         0.         0.17172891 0.\n",
      "  0.         0.26904652 0.         0.26904652]]\n"
     ]
    }
   ],
   "source": [
    "# Get Tf-IDF value\n",
    "from sklearn.feature_extraction.text import TfidfVectorizer\n",
    "# create the transform\n",
    "vectorizer = TfidfVectorizer()\n",
    "# tokenize and build vocab\n",
    "res = vectorizer.fit_transform(datasets)\n",
    "\n",
    "# summarize\n",
    "print(res.toarray())\n"
   ]
  }
 ],
 "metadata": {
  "kernelspec": {
   "display_name": "Python 3",
   "language": "python",
   "name": "python3"
  },
  "language_info": {
   "codemirror_mode": {
    "name": "ipython",
    "version": 3
   },
   "file_extension": ".py",
   "mimetype": "text/x-python",
   "name": "python",
   "nbconvert_exporter": "python",
   "pygments_lexer": "ipython3",
   "version": "3.6.5"
  }
 },
 "nbformat": 4,
 "nbformat_minor": 2
}
