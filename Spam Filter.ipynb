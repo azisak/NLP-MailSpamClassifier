{
 "cells": [
  {
   "cell_type": "code",
   "execution_count": 1,
   "metadata": {},
   "outputs": [],
   "source": [
    "# Importing libraries for vectorization\n",
    "from sklearn.feature_extraction.text import CountVectorizer\n",
    "import operator\n",
    "\n",
    "# Importing libraries for Naive Bayes Train\n",
    "import pickle\n",
    "import pandas as pd\n",
    "import numpy as np\n",
    "from sklearn.naive_bayes import GaussianNB, MultinomialNB\n",
    "from sklearn.model_selection import train_test_split\n",
    "from sklearn.pipeline import Pipeline\n",
    "from sklearn.feature_extraction.text import TfidfTransformer\n",
    "import email.parser \n",
    "import os, sys, stat\n",
    "import shutil\n",
    "import re\n",
    "from pathlib import Path"
   ]
  },
  {
   "cell_type": "code",
   "execution_count": 2,
   "metadata": {},
   "outputs": [],
   "source": [
    "# Inputting training datasets\n",
    "\n",
    "input_preprocessed = \"./TR-mails/result3\"\n",
    "input_original = \"./TR-mails/TR\"\n",
    "\n",
    "def getSingleDatasetFromDir ( filename ):\n",
    "    if not os.path.exists(filename): # dest path doesnot exist\n",
    "        print (\"ERROR: input file does not exist:\"), filename\n",
    "        os.exit(1)\n",
    "    fp = open(filename, errors=\"ignore\")\n",
    "    payload = fp.read()\n",
    "    \n",
    "    return payload\n",
    "\n",
    "def getDatasetsFromDir ( srcdir ):\n",
    "    datasets = []\n",
    "    files = os.listdir(srcdir)\n",
    "    for i in range(0,2500):\n",
    "        file = \"TRAIN_\"+str(i+1)+\".eml\"\n",
    "        srcpath = os.path.join(srcdir, file)\n",
    "        src_info = os.stat(srcpath)\n",
    "        body = getSingleDatasetFromDir (srcpath)\n",
    "        datasets.append(body)\n",
    "    return datasets\n",
    "\n",
    "preprocessed_datasets = getDatasetsFromDir(input_preprocessed)\n",
    "original_datasets = getDatasetsFromDir(input_original)\n",
    "\n",
    "# Inputtting label training datasets\n",
    "label_path = \"./train-label.csv\"\n",
    "label_data = pd.read_csv(label_path)\n",
    "label_data['Prediction']\n",
    "label_data = np.asarray(label_data['Prediction'])\n",
    "\n",
    "# Convert to dataframe\n",
    "df_preprocessed = pd.DataFrame({'teks': preprocessed_datasets,\n",
    "                  'label': label_data})\n",
    "df_original = pd.DataFrame({'teks': original_datasets,\n",
    "                  'label': label_data})"
   ]
  },
  {
   "cell_type": "code",
   "execution_count": 3,
   "metadata": {},
   "outputs": [
    {
     "name": "stdout",
     "output_type": "stream",
     "text": [
      "ORIGINAL DATASETS\n",
      "With TF-IDF:  0.876\n",
      "Without TF-IDF:  0.952\n"
     ]
    }
   ],
   "source": [
    "# Original Datasets\n",
    "print(\"ORIGINAL DATASETS\")\n",
    "\n",
    "#Naive Bayes Train\n",
    "x_train, x_test, y_train, y_test = train_test_split(df_original['teks'], df_original['label'], test_size = 0.1)\n",
    "\n",
    "tfidf_clf = Pipeline([ ('count',CountVectorizer()),\n",
    "                      ('tfidf',TfidfTransformer()),\n",
    "                      ('clf', MultinomialNB())])\n",
    "no_tfidf_clf = Pipeline([ ('count',CountVectorizer()),\n",
    "                      ('clf', MultinomialNB())])\n",
    "\n",
    "tfidf_clf.fit(x_train, y_train)\n",
    "no_tfidf_clf.fit(x_train, y_train)\n",
    "\n",
    "print(\"With TF-IDF: \", tfidf_clf.score(x_test,y_test))\n",
    "print(\"Without TF-IDF: \", no_tfidf_clf.score(x_test,y_test))"
   ]
  },
  {
   "cell_type": "code",
   "execution_count": 4,
   "metadata": {},
   "outputs": [
    {
     "name": "stdout",
     "output_type": "stream",
     "text": [
      "PREPROCESSED DATASETS\n",
      "With TF-IDF:  0.812\n",
      "Without TF-IDF:  0.944\n"
     ]
    }
   ],
   "source": [
    "# Preprocessed Datasets\n",
    "print(\"PREPROCESSED DATASETS\")\n",
    "\n",
    "#Naive Bayes Train\n",
    "x_train, x_test, y_train, y_test = train_test_split(df_preprocessed['teks'], df_preprocessed['label'], test_size = 0.1)\n",
    "\n",
    "tfidf_clf = Pipeline([ ('count',CountVectorizer()),\n",
    "                      ('tfidf',TfidfTransformer()),\n",
    "                      ('clf', MultinomialNB())])\n",
    "no_tfidf_clf = Pipeline([ ('count',CountVectorizer()),\n",
    "                      ('clf', MultinomialNB())])\n",
    "\n",
    "tfidf_clf.fit(x_train, y_train)\n",
    "no_tfidf_clf.fit(x_train, y_train)\n",
    "\n",
    "print(\"With TF-IDF: \", tfidf_clf.score(x_test,y_test))\n",
    "print(\"Without TF-IDF: \", no_tfidf_clf.score(x_test,y_test))"
   ]
  }
 ],
 "metadata": {
  "kernelspec": {
   "display_name": "Python 3",
   "language": "python",
   "name": "python3"
  },
  "language_info": {
   "codemirror_mode": {
    "name": "ipython",
    "version": 3
   },
   "file_extension": ".py",
   "mimetype": "text/x-python",
   "name": "python",
   "nbconvert_exporter": "python",
   "pygments_lexer": "ipython3",
   "version": "3.6.5"
  }
 },
 "nbformat": 4,
 "nbformat_minor": 2
}
